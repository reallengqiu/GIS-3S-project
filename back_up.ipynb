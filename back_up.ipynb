{
 "cells": [
  {
   "attachments": {},
   "cell_type": "markdown",
   "metadata": {},
   "source": [
    "## qq back up\n"
   ]
  },
  {
   "attachments": {},
   "cell_type": "markdown",
   "metadata": {},
   "source": [
    "https://blog.csdn.net/weixin_45371411/article/details/105325824?ops_request_misc=%257B%2522request%255Fid%2522%253A%2522167825254116800213075885%2522%252C%2522scm%2522%253A%252220140713.130102334.pc%255Fall.%2522%257D&request_id=167825254116800213075885&biz_id=0&utm_medium=distribute.pc_search_result.none-task-blog-2~all~first_rank_ecpm_v1~rank_v31_ecpm-3-105325824-null-null.142^v73^insert_down4,201^v4^add_ask,239^v2^insert_chatgpt&\n",
    "utm_term=qq%E8%87%AA%E5%B8%A6%E8%AE%B0%E5%BD%95%E5%A4%87%E4%BB%BD%E6%97%A0%E6%B3%95%E4%BC%A0%E9%80%81&spm=1018.2226.3001.4187\n"
   ]
  }
 ],
 "metadata": {
  "language_info": {
   "name": "python"
  },
  "orig_nbformat": 4
 },
 "nbformat": 4,
 "nbformat_minor": 2
}
